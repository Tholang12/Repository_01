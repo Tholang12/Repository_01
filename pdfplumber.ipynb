{
 "cells": [
  {
   "cell_type": "code",
   "execution_count": 1,
   "id": "93e5cdf7",
   "metadata": {},
   "outputs": [],
   "source": [
    "# ***Using pdfplumber library for extracting the text***\n",
    "import pdfplumber"
   ]
  },
  {
   "cell_type": "code",
   "execution_count": 17,
   "id": "c665ba7e",
   "metadata": {},
   "outputs": [],
   "source": [
    "invoice = open(\"C:\\\\Users\\\\milad\\\\Downloads\\\\Invoice#001..pdf\",\"rb\")"
   ]
  },
  {
   "cell_type": "code",
   "execution_count": 18,
   "id": "c823acfc",
   "metadata": {},
   "outputs": [],
   "source": [
    "with pdfplumber.open(invoice) as pdf:\n",
    "    page = pdf.pages[0]\n",
    "    text = page.extract_text()"
   ]
  },
  {
   "cell_type": "code",
   "execution_count": 19,
   "id": "e5bbf39a",
   "metadata": {},
   "outputs": [
    {
     "name": "stdout",
     "output_type": "stream",
     "text": [
      "INVOICE\n",
      "# 001\n",
      "RPA NUGGETS\n",
      "44 Melrose Boulevard, Melrose Arch\n",
      "Johannesburg NUGGETS PTY (LTD)\n",
      "2196 Balance Due:\n",
      "www.rpanuggets.com Bill To: Feb 11, 2021\n",
      "info@rpanuggets.com\n",
      "Dr Motsamai A\n",
      "Feb 19, 2021\n",
      "FNB Date:\n",
      "ZAR 11,500.00\n",
      "Account Number: 62884518675 RPA\n",
      "Due Date:\n",
      "Item Quantity Rate Amount Intelligent Automation Training 1 ZAR 8,000.00 ZAR 8,000.00\n",
      "Subtotal:\n",
      "Tax (15%):\n",
      "Total:\n",
      "Notes:\n",
      "This admission fee is exclusive of exam fees\n",
      "ZAR 10,000.00 ZAR 1,500.00 ZAR 11,500.00\n"
     ]
    }
   ],
   "source": [
    "print(text)"
   ]
  },
  {
   "cell_type": "code",
   "execution_count": 20,
   "id": "6fe046ad",
   "metadata": {},
   "outputs": [],
   "source": [
    "# *** find each detail that we need ***\n",
    "# ***extraction account number***\n",
    "for row in text.split('\\n'):\n",
    "    if row.startswith('Account Number:'):\n",
    "        accountnumber = row.split()[-2]\n"
   ]
  },
  {
   "cell_type": "code",
   "execution_count": 21,
   "id": "60095458",
   "metadata": {},
   "outputs": [
    {
     "data": {
      "text/plain": [
       "'62884518675'"
      ]
     },
     "execution_count": 21,
     "metadata": {},
     "output_type": "execute_result"
    }
   ],
   "source": [
    "accountnumber"
   ]
  },
  {
   "cell_type": "code",
   "execution_count": 24,
   "id": "42b7fb8d",
   "metadata": {},
   "outputs": [],
   "source": [
    "for row in text.split('\\n'):\n",
    "    if row.startswith('#'):\n",
    "        Invoice = row.split()[-1]"
   ]
  },
  {
   "cell_type": "code",
   "execution_count": 25,
   "id": "c7a4f289",
   "metadata": {},
   "outputs": [
    {
     "data": {
      "text/plain": [
       "'001'"
      ]
     },
     "execution_count": 25,
     "metadata": {},
     "output_type": "execute_result"
    }
   ],
   "source": [
    "Invoice"
   ]
  },
  {
   "cell_type": "code",
   "execution_count": null,
   "id": "9b4f7548",
   "metadata": {},
   "outputs": [],
   "source": []
  }
 ],
 "metadata": {
  "kernelspec": {
   "display_name": "Python 3 (ipykernel)",
   "language": "python",
   "name": "python3"
  },
  "language_info": {
   "codemirror_mode": {
    "name": "ipython",
    "version": 3
   },
   "file_extension": ".py",
   "mimetype": "text/x-python",
   "name": "python",
   "nbconvert_exporter": "python",
   "pygments_lexer": "ipython3",
   "version": "3.9.7"
  }
 },
 "nbformat": 4,
 "nbformat_minor": 5
}
